{
 "cells": [
  {
   "cell_type": "markdown",
   "id": "27b27bbc-9cb3-4d9d-ade5-b77a6d2f9776",
   "metadata": {},
   "source": [
    "# Demo: Run bedrock model and ingest input and output token count into Amberflo"
   ]
  },
  {
   "cell_type": "markdown",
   "id": "b1133dd0-827f-4cc1-bfa5-90ad42c6d8ee",
   "metadata": {},
   "source": [
    "## 1. Install dependencies\n",
    "\n",
    "The following is a list of requirements needed for reproducing this notebook on a local environment.\n",
    "```\n",
    "amberflo-metering-python==3.3.1\n",
    "boto3==1.37.11\n",
    "```\n",
    "\n",
    "You can put the following on a requirements.txt, and then run `pip install -r requirements.txt`."
   ]
  },
  {
   "cell_type": "markdown",
   "id": "9d254658-e0b6-41b1-9be7-ff7de3a32d78",
   "metadata": {},
   "source": [
    "## 2. Setup your credentials\n",
    "\n",
    "The demo will use the AWS services:\n",
    "\n",
    "- bedrock: for answering a prompt\n",
    "- s3: in order to ingest data data into Amberflo\n",
    "\n",
    "If you leave the following variables set to `None`, then the AWS clients will try to automatically pick up your credentials.\n",
    "\n",
    "Depending on your runtime, you might need to set up these explicitly."
   ]
  },
  {
   "cell_type": "code",
   "execution_count": null,
   "id": "f4460854-3a24-49a5-862f-1db7895a537f",
   "metadata": {},
   "outputs": [],
   "source": [
    "REGION = \"us-west-2\"\n",
    "aws_access_key_id=None # or \"<YOUR AWS KEY ID>\"\n",
    "aws_secret_access_key=None # or \"<YOUR AWS SECRET KEY>\"\n",
    "amberflo_ingestion_bucket=\"<YOUR INGESTION BUCKET>\" # get your bucket name from customer support"
   ]
  },
  {
   "cell_type": "markdown",
   "id": "ccbca0fb-37e6-41db-96af-0295e1da5083",
   "metadata": {},
   "source": [
    "## 3. Import relevant libraries"
   ]
  },
  {
   "cell_type": "code",
   "execution_count": null,
   "id": "8ae32300-2bcf-441d-ac30-76ca0a5db5ac",
   "metadata": {},
   "outputs": [],
   "source": [
    "import boto3\n",
    "import json\n",
    "import logging\n",
    "from time import time\n",
    "from metering.ingest import create_ingest_client, create_ingest_payload"
   ]
  },
  {
   "cell_type": "markdown",
   "id": "91638fe1-8e92-4e81-aa4d-277aa7d6254a",
   "metadata": {},
   "source": [
    "## 4. Initialize long living resources\n",
    "\n",
    "The code below will create clients for Amazon Bedrock and for Amberflo.\n",
    "\n",
    "Note that the Amberflo client is configured to push data to S3 on a background thread. This is the optimal configuration for high trhouput ingestion. For alternative initializations see  https://docs.amberflo.io/docs/python-library."
   ]
  },
  {
   "cell_type": "code",
   "execution_count": null,
   "id": "3d3a4027-272d-4031-bc2c-3d13d8c9f61b",
   "metadata": {
    "scrolled": true
   },
   "outputs": [],
   "source": [
    "bedrock_client = boto3.client(\n",
    "    \"bedrock-runtime\",\n",
    "    region_name=REGION,\n",
    "    aws_access_key_id=aws_access_key_id,\n",
    "    aws_secret_access_key=aws_secret_access_key,\n",
    ")\n",
    "\n",
    "logging.basicConfig(level=logging.INFO)\n",
    "logger = logging.getLogger(__name__)\n",
    "\n",
    "metering_client = create_ingest_client(\n",
    "    bucket_name=amberflo_ingestion_bucket,\n",
    "    access_key=aws_access_key_id,\n",
    "    secret_key=aws_secret_access_key,\n",
    ")"
   ]
  },
  {
   "cell_type": "markdown",
   "id": "565d4c81-b0a6-491a-8598-dbade9b89307",
   "metadata": {},
   "source": [
    "## 5. Run your LLM model"
   ]
  },
  {
   "cell_type": "code",
   "execution_count": null,
   "id": "3e11f7ae-ebca-4a3c-a746-2f5098566693",
   "metadata": {},
   "outputs": [],
   "source": [
    "def get_chat_completion(prompt):\n",
    "    return bedrock_client.invoke_model(\n",
    "        modelId=\"anthropic.claude-3-5-haiku-20241022-v1:0\",\n",
    "        body=json.dumps(\n",
    "            {\n",
    "                \"anthropic_version\": \"bedrock-2023-05-31\",\n",
    "                \"messages\": [{\"role\": \"user\", \"content\": prompt}],\n",
    "                \"max_tokens\": 256,\n",
    "                \"temperature\": 0.7,\n",
    "            }\n",
    "        ),\n",
    "    )\n",
    "\n",
    "# LLM input\n",
    "prompt = \"What are the key difficulties in managing my AI budget?\"\n",
    "\n",
    "# Invoke the AWS Bedrock model\n",
    "response = get_chat_completion(prompt)\n",
    "llm_result = json.loads(response[\"body\"].read().decode(\"utf-8\"))\n",
    "print(json.dumps(llm_result, indent=2))"
   ]
  },
  {
   "cell_type": "markdown",
   "id": "53c015bd-248b-4a96-92ce-55ceac457f7e",
   "metadata": {},
   "source": [
    "## 6. Ingest your meter"
   ]
  },
  {
   "cell_type": "code",
   "execution_count": null,
   "id": "e6781dfe-6872-4784-9d3f-289d6965276b",
   "metadata": {},
   "outputs": [],
   "source": [
    "def ingest_llm_response(llm_result, metering_client, llm_context, caller_context):\n",
    "    input_tokens = llm_result.get(\"usage\", {}).get(\"input_tokens\", 0)\n",
    "    output_tokens = llm_result.get(\"usage\", {}).get(\"output_tokens\", 0)\n",
    "    content_items = llm_result.get(\"content\", [])\n",
    "    content_type = (\n",
    "        content_items[0].get(\"type\", \"unknown\") if content_items else \"unknown\"\n",
    "    )\n",
    "\n",
    "    # Construct meter event dimensions\n",
    "    dimensions = {\n",
    "        \"model\": llm_result.get(\"model\"),\n",
    "        \"provider\": llm_context.get(\"provider\"),\n",
    "        \"region\": llm_context.get(\"region\"),\n",
    "        \"batch\": llm_context.get(\"batch\"),\n",
    "        \"model_type\": content_type,\n",
    "        \"user_id\": caller_context.get(\"user_id\"),\n",
    "        \"app\": caller_context.get(\"app\"),\n",
    "    }\n",
    "\n",
    "    logger.info(\n",
    "        \"AFLO_LLM: %s, afloDimensions: %s\",\n",
    "        json.dumps(llm_result, indent=4),\n",
    "        json.dumps(dimensions, indent=4),\n",
    "    )\n",
    "\n",
    "    for meter_api_name, meter_value in [\n",
    "        (\"amazon_bedrock_input_tokens\", input_tokens),\n",
    "        (\"amazon_bedrock_output_tokens\", output_tokens),\n",
    "    ]:\n",
    "        event = create_ingest_payload(\n",
    "            meter_api_name=meter_api_name,\n",
    "            meter_time_in_millis=int(round(time() * 1000)),\n",
    "            meter_value=meter_value,\n",
    "            customer_id=\"sales\",\n",
    "            dimensions=dimensions,\n",
    "            # unique_id is the LLM response id\n",
    "            # and can link input and output tokens\n",
    "            unique_id=llm_result.get(\"id\"),\n",
    "        )\n",
    "        metering_client.send(event)\n",
    "\n",
    "caller_context = {\n",
    "    \"user_id\": \"talha\",\n",
    "    \"app\": \"sales-chatbot\",\n",
    "    \"department\": \"sales\",\n",
    "}\n",
    "\n",
    "llm_context = {\n",
    "    \"batch\": \"false\",\n",
    "    \"provider\": \"antrhopic\",\n",
    "    \"region\": REGION\n",
    "}\n",
    "\n",
    "ingest_llm_response(llm_result, metering_client, llm_context, caller_context)"
   ]
  },
  {
   "cell_type": "markdown",
   "id": "010b86df-0873-4dba-bb67-f4bcb8281f46",
   "metadata": {},
   "source": [
    "## 6. Shutdown the Amberflo client\n",
    "\n",
    "This operation will make sure that any pending meter event was properly submit to Amberflo."
   ]
  },
  {
   "cell_type": "code",
   "execution_count": null,
   "id": "ca13ec6e-2ede-498e-9f61-7a1dbb0d33fd",
   "metadata": {},
   "outputs": [],
   "source": [
    "metering_client.shutdown()"
   ]
  }
 ],
 "metadata": {
  "kernelspec": {
   "display_name": "Python 3 (ipykernel)",
   "language": "python",
   "name": "python3"
  },
  "language_info": {
   "codemirror_mode": {
    "name": "ipython",
    "version": 3
   },
   "file_extension": ".py",
   "mimetype": "text/x-python",
   "name": "python",
   "nbconvert_exporter": "python",
   "pygments_lexer": "ipython3",
   "version": "3.13.2"
  }
 },
 "nbformat": 4,
 "nbformat_minor": 5
}
